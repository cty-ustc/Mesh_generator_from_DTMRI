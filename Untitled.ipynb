{
 "metadata": {
  "kernelspec": {
   "display_name": "Python 2",
   "language": "python",
   "name": "python2"
  },
  "language_info": {
   "codemirror_mode": {
    "name": "ipython",
    "version": 2
   },
   "file_extension": ".py",
   "mimetype": "text/x-python",
   "name": "python",
   "nbconvert_exporter": "python",
   "pygments_lexer": "ipython2",
   "version": "2.7.9"
  },
  "name": "",
  "signature": "sha256:2d89f24991623c65f4d4cd726af04a07891e9613b251bb1cfe9891e42fae5139"
 },
 "nbformat": 3,
 "nbformat_minor": 0,
 "worksheets": [
  {
   "cells": [
    {
     "cell_type": "code",
     "collapsed": false,
     "input": [
      "import numpy as np\n",
      "import matplotlib.pyplot as plt\n",
      "from mpl_toolkits.mplot3d.art3d import Poly3DCollection\n",
      "%matplotlib inline\n",
      "\n",
      "from skimage import measure\n",
      "from skimage.draw import ellipsoid\n",
      "\n",
      "\n",
      "# Generate a level set about zero of two identical ellipsoids in 3D\n",
      "ellip_base = ellipsoid(6, 10, 16, levelset=True)\n",
      "ellip_double = np.concatenate((ellip_base[:-1, ...],\n",
      "                               ellip_base[2:, ...]), axis=0)\n",
      "\n",
      "# Use marching cubes to obtain the surface mesh of these ellipsoids\n",
      "verts, faces = measure.marching_cubes(ellip_double, -0.5)\n",
      "\n",
      "\n",
      "# Display resulting triangular mesh using Matplotlib. This can also be done\n",
      "# with mayavi (see skimage.measure.marching_cubes docstring).\n",
      "fig = plt.figure(figsize=(10, 10))\n",
      "ax = fig.add_subplot(111, projection='3d')\n",
      "\n",
      "# Fancy indexing: `verts[faces]` to generate a collection of triangles\n",
      "mesh = Poly3DCollection(verts[faces])\n",
      "ax.add_collection3d(mesh)\n",
      "\n",
      "ax.set_xlabel(\"x-axis: a = 6 per ellipsoid\")\n",
      "ax.set_ylabel(\"y-axis: b = 10\")\n",
      "ax.set_zlabel(\"z-axis: c = 16\")\n",
      "\n",
      "ax.set_xlim(0, 24)  # a = 6 (times two for 2nd ellipsoid)\n",
      "ax.set_ylim(0, 20)  # b = 10\n",
      "ax.set_zlim(0, 32)  # c = 16\n",
      "\n",
      "plt.tight_layout()\n",
      "plt.show()"
     ],
     "language": "python",
     "metadata": {},
     "outputs": [
      {
       "output_type": "stream",
       "stream": "stderr",
       "text": [
        "/home/shido/skimage/scikit-image-master/skimage/measure/_marching_cubes_lewiner.py:157: skimage_deprecation: `marching_cubes` now uses a better and faster algorithm, and returns four instead of two outputs (see docstring for details). Backwards compatibility with 0.12 and prior is available with `marching_cubes_classic`.\n",
        "  warn(skimage_deprecation('`marching_cubes` now uses a better and '\n"
       ]
      },
      {
       "ename": "ValueError",
       "evalue": "too many values to unpack",
       "output_type": "pyerr",
       "traceback": [
        "\u001b[0;31m---------------------------------------------------------------------------\u001b[0m\n\u001b[0;31mValueError\u001b[0m                                Traceback (most recent call last)",
        "\u001b[0;32m<ipython-input-1-53a9852910f5>\u001b[0m in \u001b[0;36m<module>\u001b[0;34m()\u001b[0m\n\u001b[1;32m     14\u001b[0m \u001b[0;34m\u001b[0m\u001b[0m\n\u001b[1;32m     15\u001b[0m \u001b[0;31m# Use marching cubes to obtain the surface mesh of these ellipsoids\u001b[0m\u001b[0;34m\u001b[0m\u001b[0;34m\u001b[0m\u001b[0m\n\u001b[0;32m---> 16\u001b[0;31m \u001b[0mverts\u001b[0m\u001b[0;34m,\u001b[0m \u001b[0mfaces\u001b[0m \u001b[0;34m=\u001b[0m \u001b[0mmeasure\u001b[0m\u001b[0;34m.\u001b[0m\u001b[0mmarching_cubes\u001b[0m\u001b[0;34m(\u001b[0m\u001b[0mellip_double\u001b[0m\u001b[0;34m,\u001b[0m \u001b[0;34m-\u001b[0m\u001b[0;36m0.5\u001b[0m\u001b[0;34m)\u001b[0m\u001b[0;34m\u001b[0m\u001b[0m\n\u001b[0m\u001b[1;32m     17\u001b[0m \u001b[0;34m\u001b[0m\u001b[0m\n\u001b[1;32m     18\u001b[0m \u001b[0;34m\u001b[0m\u001b[0m\n",
        "\u001b[0;31mValueError\u001b[0m: too many values to unpack"
       ]
      }
     ],
     "prompt_number": 1
    },
    {
     "cell_type": "code",
     "collapsed": false,
     "input": [
      "import skimage.io as io"
     ],
     "language": "python",
     "metadata": {},
     "outputs": []
    },
    {
     "cell_type": "code",
     "collapsed": false,
     "input": [
      "io.imshow(ellip_base[10])"
     ],
     "language": "python",
     "metadata": {},
     "outputs": []
    },
    {
     "cell_type": "code",
     "collapsed": false,
     "input": [
      "faces"
     ],
     "language": "python",
     "metadata": {},
     "outputs": []
    },
    {
     "cell_type": "code",
     "collapsed": false,
     "input": [
      "verts"
     ],
     "language": "python",
     "metadata": {},
     "outputs": [
      {
       "metadata": {},
       "output_type": "pyout",
       "prompt_number": 14,
       "text": [
        "array([[  3.        ,   9.        ,  15.00592593],\n",
        "       [  2.95340278,   9.        ,  16.        ],\n",
        "       [  3.        ,   8.76701389,  16.        ],\n",
        "       ..., \n",
        "       [ 23.04659722,  13.        ,  16.        ],\n",
        "       [ 23.06222222,  13.        ,  17.        ],\n",
        "       [ 23.04659722,  13.        ,  18.        ]])"
       ]
      }
     ],
     "prompt_number": 14
    },
    {
     "cell_type": "code",
     "collapsed": false,
     "input": [
      "import skimage\n",
      "skimage.__version__"
     ],
     "language": "python",
     "metadata": {},
     "outputs": [
      {
       "metadata": {},
       "output_type": "pyout",
       "prompt_number": 16,
       "text": [
        "'0.12.3'"
       ]
      }
     ],
     "prompt_number": 16
    },
    {
     "cell_type": "code",
     "collapsed": false,
     "input": [
      "io.imshow(ellip_double[10,:,:])"
     ],
     "language": "python",
     "metadata": {},
     "outputs": [
      {
       "metadata": {},
       "output_type": "pyout",
       "prompt_number": 21,
       "text": [
        "<matplotlib.image.AxesImage at 0x7ffa078c4650>"
       ]
      },
      {
       "metadata": {},
       "output_type": "display_data",
       "png": "[encoded data removed]",
       "text": [
        "<matplotlib.figure.Figure at 0x7ffa07e2d2d0>"
       ]
      }
     ],
     "prompt_number": 21
    },
    {
     "cell_type": "code",
     "collapsed": true,
     "input": [],
     "language": "python",
     "metadata": {},
     "outputs": [],
     "prompt_number": null
    },
    {
     "cell_type": "code",
     "collapsed": true,
     "input": [],
     "language": "python",
     "metadata": {},
     "outputs": [],
     "prompt_number": null
    }
   ],
   "metadata": {}
  }
 ]
}