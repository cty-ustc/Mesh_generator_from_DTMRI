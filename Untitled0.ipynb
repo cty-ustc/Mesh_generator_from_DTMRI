{
 "metadata": {
  "name": "",
  "signature": "sha256:3e7d1b625f74dc5f4a5c94592f7e796a2b5704e99c83fd1a8adc604957011ac9"
 },
 "nbformat": 3,
 "nbformat_minor": 0,
 "worksheets": []
}